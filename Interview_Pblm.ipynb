{
  "nbformat": 4,
  "nbformat_minor": 0,
  "metadata": {
    "colab": {
      "provenance": [],
      "authorship_tag": "ABX9TyNLGSOYBRhDUNpSQgJfa9UP",
      "include_colab_link": true
    },
    "kernelspec": {
      "name": "python3",
      "display_name": "Python 3"
    },
    "language_info": {
      "name": "python"
    }
  },
  "cells": [
    {
      "cell_type": "markdown",
      "metadata": {
        "id": "view-in-github",
        "colab_type": "text"
      },
      "source": [
        "<a href=\"https://colab.research.google.com/github/Udhay2898/Project/blob/Master/Interview_Pblm.ipynb\" target=\"_parent\"><img src=\"https://colab.research.google.com/assets/colab-badge.svg\" alt=\"Open In Colab\"/></a>"
      ]
    },
    {
      "cell_type": "markdown",
      "source": [
        "**Write a program to print the given number is odd or even**"
      ],
      "metadata": {
        "id": "2Z6qPTQ4RzOq"
      }
    },
    {
      "cell_type": "code",
      "execution_count": 4,
      "metadata": {
        "colab": {
          "base_uri": "https://localhost:8080/"
        },
        "id": "HXdIWYKPRrj-",
        "outputId": "2da64a4c-17d3-4d92-b5c1-deeb0b9f7092"
      },
      "outputs": [
        {
          "output_type": "stream",
          "name": "stdout",
          "text": [
            "Enter the Number : 22\n",
            "22 is Even\n"
          ]
        }
      ],
      "source": [
        "n = int(input(\"Enter the Number : \"))\n",
        "if n % 2 == 0:\n",
        "  print(f'{n} is Even')\n",
        "else:\n",
        "  print(f'{n} is Odd')"
      ]
    },
    {
      "cell_type": "markdown",
      "source": [
        "**Write a program to find the given number is positive or negative**"
      ],
      "metadata": {
        "id": "_HA2WcoCRybH"
      }
    },
    {
      "cell_type": "code",
      "source": [
        "n = int(input(\"Enter the Number : \"))\n",
        "if n == 0:\n",
        "  print(f'{n} is Zero')\n",
        "elif n > 0:\n",
        "  print(f'{n} is +ve')\n",
        "else:\n",
        "  print(f'{n} is -ve')"
      ],
      "metadata": {
        "colab": {
          "base_uri": "https://localhost:8080/"
        },
        "id": "pp7X1nXeSY98",
        "outputId": "12716910-0bbd-40ed-a8e3-fb60923e1474"
      },
      "execution_count": 8,
      "outputs": [
        {
          "output_type": "stream",
          "name": "stdout",
          "text": [
            "Enter the Number : 12\n",
            "12 is +ve\n"
          ]
        }
      ]
    },
    {
      "cell_type": "markdown",
      "source": [
        "**Write a program to find the sum of two numbers**"
      ],
      "metadata": {
        "id": "tCI1QEUKTJhq"
      }
    },
    {
      "cell_type": "code",
      "source": [
        "a = int(input(\"Enter the Number 1 : \"))\n",
        "b = int(input(\"Enter the Number 2 : \"))\n",
        "\n",
        "print(f'{a} + {b} = {a+b}')"
      ],
      "metadata": {
        "colab": {
          "base_uri": "https://localhost:8080/"
        },
        "id": "L4iSw9qGS1wW",
        "outputId": "a14ed128-7651-441c-99a9-a0b511e9bb8b"
      },
      "execution_count": 10,
      "outputs": [
        {
          "output_type": "stream",
          "name": "stdout",
          "text": [
            "Enter the Number 1 : 1\n",
            "Enter the Number 2 : 3\n",
            "1 + 3 = 4\n"
          ]
        }
      ]
    },
    {
      "cell_type": "markdown",
      "source": [
        "**Write a program to find if the given number is prime or not**"
      ],
      "metadata": {
        "id": "fzoMM_yWTq2I"
      }
    },
    {
      "cell_type": "code",
      "source": [
        "n =154\n",
        "\n",
        "def is_prime(n):\n",
        "  for i in range(2,n+1):\n",
        "    if n%i == 0:\n",
        "      return False\n",
        "  return True\n",
        "\n",
        "if is_prime(n):\n",
        "  print(f'{n} is a Prime')\n",
        "else:\n",
        "  print(f'{n} is not a Prime')"
      ],
      "metadata": {
        "colab": {
          "base_uri": "https://localhost:8080/"
        },
        "id": "_RnV3xfWTAtq",
        "outputId": "aaddda2e-4629-438c-ee05-f9ece00e4013"
      },
      "execution_count": 89,
      "outputs": [
        {
          "output_type": "stream",
          "name": "stdout",
          "text": [
            "154 is not a Prime\n"
          ]
        }
      ]
    },
    {
      "cell_type": "markdown",
      "source": [
        "**Write a program to check if the given number is palindrome or not**"
      ],
      "metadata": {
        "id": "PxWIAIiJXBLG"
      }
    },
    {
      "cell_type": "code",
      "source": [
        "n = str(input('N :'))\n",
        "n1 = n[::-1]\n",
        "if n == n1:\n",
        "  print(f'{n} is palindrome')\n",
        "else:\n",
        "  print(f'{n} is non palindrome')"
      ],
      "metadata": {
        "colab": {
          "base_uri": "https://localhost:8080/"
        },
        "id": "A5s-LPY3Tlqn",
        "outputId": "240e2dc6-eef3-49a4-c1bd-7dca4ad4e26c"
      },
      "execution_count": 22,
      "outputs": [
        {
          "output_type": "stream",
          "name": "stdout",
          "text": [
            "N :002\n",
            "002 is non palindrome\n"
          ]
        }
      ]
    },
    {
      "cell_type": "markdown",
      "source": [
        "**Write a program to check if the given number is Armstrong or not**"
      ],
      "metadata": {
        "id": "ZcTMd2qwYSUq"
      }
    },
    {
      "cell_type": "code",
      "source": [
        "n = int(input('Enter the Number :'))\n",
        "n = str(n)\n",
        "a = 0\n",
        "for i in n:\n",
        "  a += int(i)**len(str(n))\n",
        "if a == n:\n",
        "  print(f'{n} is an Armstrong')\n",
        "else:\n",
        "  print(f'{n} is Not an Armstrong')"
      ],
      "metadata": {
        "colab": {
          "base_uri": "https://localhost:8080/"
        },
        "id": "2CfGzmRzXoFb",
        "outputId": "78f805df-4dbd-498f-e94a-dead01c3b154"
      },
      "execution_count": 37,
      "outputs": [
        {
          "output_type": "stream",
          "name": "stdout",
          "text": [
            "Enter the Number :9474\n",
            "9474 is Not an Armstrong\n"
          ]
        }
      ]
    },
    {
      "cell_type": "markdown",
      "source": [
        "**Write a program to check if the given strings are anagram or not**"
      ],
      "metadata": {
        "id": "8HfX1fFFa0Bx"
      }
    },
    {
      "cell_type": "code",
      "source": [
        "str1 = str(input('Enter the string :'))\n",
        "str2 = str(input('Enter the string :'))\n",
        "\n",
        "str1 = str1.replace(' ','').lower()\n",
        "str2 = str2.replace(' ','').lower()\n",
        "\n",
        "if sorted(str1) == sorted(str2):\n",
        "  print(f'{str1} and {str2} are Anagram', 'Each letter used only once in both Words')\n",
        "else:\n",
        "  print(f'{str1} and {str2} are not an Anagram')"
      ],
      "metadata": {
        "colab": {
          "base_uri": "https://localhost:8080/"
        },
        "id": "_chbisbDY-IN",
        "outputId": "7a09d1b7-e36e-4351-bc93-a6312850b6b3"
      },
      "execution_count": 40,
      "outputs": [
        {
          "output_type": "stream",
          "name": "stdout",
          "text": [
            "Enter the string :Astronomer\n",
            "Enter the string :stonomerar\n",
            "astronomer and stonomerar are Anagram Each letter used only once in both Words\n"
          ]
        }
      ]
    },
    {
      "cell_type": "markdown",
      "source": [
        "**Write a program to find a factorial of a number.**"
      ],
      "metadata": {
        "id": "fSuDmUlidD_q"
      }
    },
    {
      "cell_type": "code",
      "source": [
        "n = int(input('Enter the Number :'))\n",
        "factorial = 1\n",
        "if n == 1 or n == 0:\n",
        "  print(f'{n}! = 1')\n",
        "elif n < 0:\n",
        "  print(f\"We can't Evaluate {n}! cause its -ve\")\n",
        "else:\n",
        "  for i in range(1,n+1):\n",
        "    factorial = factorial * i\n",
        "print(factorial)"
      ],
      "metadata": {
        "colab": {
          "base_uri": "https://localhost:8080/"
        },
        "id": "ql4KEENZcbi4",
        "outputId": "51d2ce71-b3d0-47ff-93c7-5eb1fb466d55"
      },
      "execution_count": 9,
      "outputs": [
        {
          "output_type": "stream",
          "name": "stdout",
          "text": [
            "Enter the Number :10\n",
            "3628800\n"
          ]
        }
      ]
    },
    {
      "cell_type": "markdown",
      "source": [
        "**Find first N Factorials**"
      ],
      "metadata": {
        "id": "vYGHERuc0nIy"
      }
    },
    {
      "cell_type": "code",
      "source": [
        "n = 10\n",
        "a = []\n",
        "fact = []\n",
        "b = 1\n",
        "for i in range(1,n+1):\n",
        "  a.append(i)\n",
        "for i in a:\n",
        "    b *= i\n",
        "    fact.append(b)\n",
        "print(fact)\n",
        "\n"
      ],
      "metadata": {
        "colab": {
          "base_uri": "https://localhost:8080/"
        },
        "id": "PY71pk-1fUG4",
        "outputId": "eb378c91-3a14-4e62-d8f9-118a3aea35de"
      },
      "execution_count": 26,
      "outputs": [
        {
          "output_type": "stream",
          "name": "stdout",
          "text": [
            "[1, 2, 6, 24, 120, 720, 5040, 40320, 362880, 3628800]\n"
          ]
        }
      ]
    },
    {
      "cell_type": "markdown",
      "source": [
        "**Write a program to find a fibonacci of a number**"
      ],
      "metadata": {
        "id": "rLwbU0tdJGaN"
      }
    },
    {
      "cell_type": "code",
      "source": [
        "n = 10\n",
        "fibonacci = [0,1]\n",
        "for i in range(n-2):\n",
        "  n_fibonacci = fibonacci[-1] + fibonacci[-2]\n",
        "  fibonacci.append(n_fibonacci)\n",
        "print(fibonacci,len(fibonacci))"
      ],
      "metadata": {
        "colab": {
          "base_uri": "https://localhost:8080/"
        },
        "id": "MebbneuZyOWT",
        "outputId": "b44cbe28-d5b4-4601-9235-0dd99529de20"
      },
      "execution_count": 104,
      "outputs": [
        {
          "output_type": "stream",
          "name": "stdout",
          "text": [
            "[0, 1, 1, 2, 3, 5, 8, 13, 21, 34] 10\n"
          ]
        }
      ]
    }
  ]
}